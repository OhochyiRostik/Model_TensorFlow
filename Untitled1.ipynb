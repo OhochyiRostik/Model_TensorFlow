{
 "cells": [
  {
   "cell_type": "code",
   "execution_count": 255,
   "id": "26f45d03",
   "metadata": {},
   "outputs": [],
   "source": [
    "# Прогнозування курсу акцій нейронна мережа\n",
    "import tensorflow as tf\n",
    "import numpy as np\n",
    "import matplotlib.pyplot as plt\n",
    "import pandas as pd"
   ]
  },
  {
   "cell_type": "code",
   "execution_count": 256,
   "id": "d6050079",
   "metadata": {},
   "outputs": [],
   "source": [
    "API_KEY='*************'\n",
    "# filename = r'C:\\Users\\User\\Desktop\\Робота\\TestBot\\daily_IBM.csv'\n",
    "filename = f'https://www.alphavantage.co/query?function=TIME_SERIES_DAILY&symbol=IBM&outputsize=full&apikey={API_KEY}&datatype=csv'\n",
    "\n",
    "# sep = ','\n",
    "df = pd.read_csv(filename)\n",
    "df['timestamp'] = pd.to_datetime(df['timestamp'], format='%Y-%m-%d')\n",
    "# df= df.drop('timestamp', 1)"
   ]
  },
  {
   "cell_type": "code",
   "execution_count": 257,
   "id": "270a10be",
   "metadata": {},
   "outputs": [
    {
     "data": {
      "text/html": [
       "<div>\n",
       "<style scoped>\n",
       "    .dataframe tbody tr th:only-of-type {\n",
       "        vertical-align: middle;\n",
       "    }\n",
       "\n",
       "    .dataframe tbody tr th {\n",
       "        vertical-align: top;\n",
       "    }\n",
       "\n",
       "    .dataframe thead th {\n",
       "        text-align: right;\n",
       "    }\n",
       "</style>\n",
       "<table border=\"1\" class=\"dataframe\">\n",
       "  <thead>\n",
       "    <tr style=\"text-align: right;\">\n",
       "      <th></th>\n",
       "      <th>timestamp</th>\n",
       "      <th>open</th>\n",
       "      <th>high</th>\n",
       "      <th>low</th>\n",
       "      <th>close</th>\n",
       "      <th>volume</th>\n",
       "    </tr>\n",
       "  </thead>\n",
       "  <tbody>\n",
       "    <tr>\n",
       "      <th>0</th>\n",
       "      <td>2023-11-02</td>\n",
       "      <td>145.77</td>\n",
       "      <td>147.10</td>\n",
       "      <td>144.84</td>\n",
       "      <td>147.01</td>\n",
       "      <td>3902657</td>\n",
       "    </tr>\n",
       "    <tr>\n",
       "      <th>1</th>\n",
       "      <td>2023-11-01</td>\n",
       "      <td>145.00</td>\n",
       "      <td>146.51</td>\n",
       "      <td>144.45</td>\n",
       "      <td>145.40</td>\n",
       "      <td>4750081</td>\n",
       "    </tr>\n",
       "    <tr>\n",
       "      <th>2</th>\n",
       "      <td>2023-10-31</td>\n",
       "      <td>143.00</td>\n",
       "      <td>144.76</td>\n",
       "      <td>142.59</td>\n",
       "      <td>144.64</td>\n",
       "      <td>6592041</td>\n",
       "    </tr>\n",
       "    <tr>\n",
       "      <th>3</th>\n",
       "      <td>2023-10-30</td>\n",
       "      <td>143.19</td>\n",
       "      <td>144.50</td>\n",
       "      <td>142.58</td>\n",
       "      <td>142.63</td>\n",
       "      <td>4204190</td>\n",
       "    </tr>\n",
       "    <tr>\n",
       "      <th>4</th>\n",
       "      <td>2023-10-27</td>\n",
       "      <td>143.62</td>\n",
       "      <td>144.70</td>\n",
       "      <td>141.71</td>\n",
       "      <td>142.52</td>\n",
       "      <td>5469227</td>\n",
       "    </tr>\n",
       "    <tr>\n",
       "      <th>...</th>\n",
       "      <td>...</td>\n",
       "      <td>...</td>\n",
       "      <td>...</td>\n",
       "      <td>...</td>\n",
       "      <td>...</td>\n",
       "      <td>...</td>\n",
       "    </tr>\n",
       "    <tr>\n",
       "      <th>6036</th>\n",
       "      <td>1999-11-05</td>\n",
       "      <td>92.75</td>\n",
       "      <td>92.94</td>\n",
       "      <td>90.19</td>\n",
       "      <td>90.25</td>\n",
       "      <td>13737600</td>\n",
       "    </tr>\n",
       "    <tr>\n",
       "      <th>6037</th>\n",
       "      <td>1999-11-04</td>\n",
       "      <td>94.44</td>\n",
       "      <td>94.44</td>\n",
       "      <td>90.00</td>\n",
       "      <td>91.56</td>\n",
       "      <td>16697600</td>\n",
       "    </tr>\n",
       "    <tr>\n",
       "      <th>6038</th>\n",
       "      <td>1999-11-03</td>\n",
       "      <td>95.87</td>\n",
       "      <td>95.94</td>\n",
       "      <td>93.50</td>\n",
       "      <td>94.37</td>\n",
       "      <td>10369100</td>\n",
       "    </tr>\n",
       "    <tr>\n",
       "      <th>6039</th>\n",
       "      <td>1999-11-02</td>\n",
       "      <td>96.75</td>\n",
       "      <td>96.81</td>\n",
       "      <td>93.69</td>\n",
       "      <td>94.81</td>\n",
       "      <td>11105400</td>\n",
       "    </tr>\n",
       "    <tr>\n",
       "      <th>6040</th>\n",
       "      <td>1999-11-01</td>\n",
       "      <td>98.50</td>\n",
       "      <td>98.81</td>\n",
       "      <td>96.37</td>\n",
       "      <td>96.75</td>\n",
       "      <td>9551800</td>\n",
       "    </tr>\n",
       "  </tbody>\n",
       "</table>\n",
       "<p>6041 rows × 6 columns</p>\n",
       "</div>"
      ],
      "text/plain": [
       "      timestamp    open    high     low   close    volume\n",
       "0    2023-11-02  145.77  147.10  144.84  147.01   3902657\n",
       "1    2023-11-01  145.00  146.51  144.45  145.40   4750081\n",
       "2    2023-10-31  143.00  144.76  142.59  144.64   6592041\n",
       "3    2023-10-30  143.19  144.50  142.58  142.63   4204190\n",
       "4    2023-10-27  143.62  144.70  141.71  142.52   5469227\n",
       "...         ...     ...     ...     ...     ...       ...\n",
       "6036 1999-11-05   92.75   92.94   90.19   90.25  13737600\n",
       "6037 1999-11-04   94.44   94.44   90.00   91.56  16697600\n",
       "6038 1999-11-03   95.87   95.94   93.50   94.37  10369100\n",
       "6039 1999-11-02   96.75   96.81   93.69   94.81  11105400\n",
       "6040 1999-11-01   98.50   98.81   96.37   96.75   9551800\n",
       "\n",
       "[6041 rows x 6 columns]"
      ]
     },
     "execution_count": 257,
     "metadata": {},
     "output_type": "execute_result"
    }
   ],
   "source": [
    "from datetime import datetime\n",
    "today = datetime.today().strftime('%Y-%m-%d')\n",
    "lastday = df.at[0, 'timestamp'].strftime('%Y-%m-%d')\n",
    "if today == lastday: df = df[1:]\n",
    "df"
   ]
  },
  {
   "cell_type": "code",
   "execution_count": 263,
   "id": "f45130d3",
   "metadata": {},
   "outputs": [
    {
     "name": "stdout",
     "output_type": "stream",
     "text": [
      "5134 907\n",
      "906\n"
     ]
    }
   ],
   "source": [
    "split = 0.15\n",
    "i_split = int(len(df)*split)\n",
    "cols = ['close', 'volume']\n",
    "data_train = df.get(cols).values[:i_split:-1]\n",
    "data_test = df.get(cols).values[i_split::-1]\n",
    "len_train = len(data_train)\n",
    "len_test = len(data_test)\n",
    "print(len_train, len_test)\n",
    "print(i_split)"
   ]
  },
  {
   "cell_type": "code",
   "execution_count": 264,
   "id": "88663294",
   "metadata": {},
   "outputs": [
    {
     "data": {
      "text/plain": [
       "(array([[9.675000e+01, 9.551800e+06],\n",
       "        [9.481000e+01, 1.110540e+07],\n",
       "        [9.437000e+01, 1.036910e+07],\n",
       "        ...,\n",
       "        [1.058500e+02, 8.646557e+06],\n",
       "        [1.128900e+02, 7.153135e+06],\n",
       "        [1.080300e+02, 6.421470e+06]]),\n",
       " 5134,\n",
       " array([[1.129300e+02, 5.562501e+06],\n",
       "        [1.109300e+02, 6.342167e+06],\n",
       "        [1.051400e+02, 6.111890e+06],\n",
       "        ...,\n",
       "        [1.446400e+02, 6.592041e+06],\n",
       "        [1.454000e+02, 4.750081e+06],\n",
       "        [1.470100e+02, 3.902657e+06]]),\n",
       " 907)"
      ]
     },
     "execution_count": 264,
     "metadata": {},
     "output_type": "execute_result"
    }
   ],
   "source": [
    "data_train, len_train, data_test, len_test"
   ]
  },
  {
   "cell_type": "code",
   "execution_count": 265,
   "id": "c321e998",
   "metadata": {},
   "outputs": [
    {
     "data": {
      "text/plain": [
       "((5134, 2), (907, 2))"
      ]
     },
     "execution_count": 265,
     "metadata": {},
     "output_type": "execute_result"
    }
   ],
   "source": [
    "data_train.shape, data_test.shape"
   ]
  },
  {
   "cell_type": "code",
   "execution_count": 266,
   "id": "1364b4c4",
   "metadata": {},
   "outputs": [],
   "source": [
    "sequence_length = 50\n",
    "input_dim = 2\n",
    "bath_size = 32\n",
    "epochs = 2"
   ]
  },
  {
   "cell_type": "code",
   "execution_count": 267,
   "id": "526e0446",
   "metadata": {},
   "outputs": [],
   "source": [
    "model = tf.keras.Sequential([\n",
    "    tf.keras.layers.LSTM(100, input_shape=(sequence_length-1, input_dim), return_sequences=True),\n",
    "    tf.keras.layers.Dropout(.2),\n",
    "    tf.keras.layers.LSTM(100, return_sequences=True),\n",
    "    tf.keras.layers.LSTM(100, return_sequences=False),\n",
    "    tf.keras.layers.Dropout(.2),\n",
    "    tf.keras.layers.Dense(1, activation='linear')\n",
    "])"
   ]
  },
  {
   "cell_type": "code",
   "execution_count": 268,
   "id": "4336f6dd",
   "metadata": {},
   "outputs": [
    {
     "name": "stdout",
     "output_type": "stream",
     "text": [
      "Model: \"sequential_3\"\n",
      "_________________________________________________________________\n",
      " Layer (type)                Output Shape              Param #   \n",
      "=================================================================\n",
      " lstm_9 (LSTM)               (None, 49, 100)           41200     \n",
      "                                                                 \n",
      " dropout_6 (Dropout)         (None, 49, 100)           0         \n",
      "                                                                 \n",
      " lstm_10 (LSTM)              (None, 49, 100)           80400     \n",
      "                                                                 \n",
      " lstm_11 (LSTM)              (None, 100)               80400     \n",
      "                                                                 \n",
      " dropout_7 (Dropout)         (None, 100)               0         \n",
      "                                                                 \n",
      " dense_3 (Dense)             (None, 1)                 101       \n",
      "                                                                 \n",
      "=================================================================\n",
      "Total params: 202101 (789.46 KB)\n",
      "Trainable params: 202101 (789.46 KB)\n",
      "Non-trainable params: 0 (0.00 Byte)\n",
      "_________________________________________________________________\n"
     ]
    }
   ],
   "source": [
    "model.summary()"
   ]
  },
  {
   "cell_type": "code",
   "execution_count": 269,
   "id": "e874ab48",
   "metadata": {},
   "outputs": [],
   "source": [
    "# tf.keras.utils.plot_model(model, \"model1.png\", show_shapes=True)"
   ]
  },
  {
   "cell_type": "code",
   "execution_count": 270,
   "id": "c9e95700",
   "metadata": {},
   "outputs": [],
   "source": [
    "model.compile(optimizer='adam',\n",
    "             loss=tf.keras.losses.MeanSquaredError(),\n",
    "             metrics=['accuracy'])"
   ]
  },
  {
   "cell_type": "code",
   "execution_count": 271,
   "id": "1b9af0f9",
   "metadata": {},
   "outputs": [],
   "source": [
    "model.compile(optimizer='adam',\n",
    "             loss='mse')"
   ]
  },
  {
   "cell_type": "code",
   "execution_count": 272,
   "id": "561f9379",
   "metadata": {},
   "outputs": [],
   "source": [
    "model.compile(optimizer='adam',\n",
    "             loss='mse',\n",
    "             metrics=['accuracy'])"
   ]
  },
  {
   "cell_type": "code",
   "execution_count": 273,
   "id": "7050a424",
   "metadata": {},
   "outputs": [],
   "source": [
    "def normalise_windows(window_data, single_window=False):\n",
    "    '''Normalise window with a base value of zero'''\n",
    "    normalised_data = []\n",
    "    window_data = [window_data] if single_window else window_data\n",
    "    for window in window_data:\n",
    "        normalised_window = []\n",
    "        for col_i in range(window.shape[1]):\n",
    "            normalised_col = [((float(p) / float(window[0, col_i])) - 1) for p in window[:, col_i]]\n",
    "            normalised_window.append(normalised_col)\n",
    "        normalised_window = np.array(normalised_window).T # reshape and transpose array back into original multidimensional format\n",
    "        normalised_data.append(normalised_window)\n",
    "    return np.array(normalised_data)"
   ]
  },
  {
   "cell_type": "code",
   "execution_count": 274,
   "id": "4b3b936c",
   "metadata": {},
   "outputs": [],
   "source": [
    "def _next_window(i, seq_len, normalise):\n",
    "    '''Generates the next data window from the given index location i'''\n",
    "    window_data = data_train[i:i+seq_len]\n",
    "    window = normalise_windows(window_data, single_window=True)[0] if normalise else window_data\n",
    "    x = window[:-1]\n",
    "    y = window[-1, [0]]\n",
    "    return x, y"
   ]
  },
  {
   "cell_type": "code",
   "execution_count": 275,
   "id": "f0771568",
   "metadata": {},
   "outputs": [],
   "source": [
    "def get_train_data(seq_len, normalise):\n",
    "    '''\n",
    "    Create x, y train data windows\n",
    "    Warning: batch method, not generative, make sure you have enough memory to\n",
    "    load data, otherwise use generate_training_window() method.\n",
    "    '''\n",
    "    data_x = []\n",
    "    data_y = []\n",
    "    for i in range(len_train - seq_len + 1):\n",
    "        x, y = _next_window(i, seq_len, normalise)\n",
    "        data_x.append(x)\n",
    "        data_y.append(y)\n",
    "    return np.array(data_x), np.array(data_y)"
   ]
  },
  {
   "cell_type": "code",
   "execution_count": 276,
   "id": "7c2cd8db",
   "metadata": {},
   "outputs": [],
   "source": [
    "x, y = get_train_data(seq_len=sequence_length,\n",
    "                     normalise=True)"
   ]
  },
  {
   "cell_type": "code",
   "execution_count": 277,
   "id": "1fded6cb",
   "metadata": {},
   "outputs": [
    {
     "name": "stdout",
     "output_type": "stream",
     "text": [
      "[[[ 0.          0.        ]\n",
      "  [-0.02005168  0.16264997]\n",
      "  [-0.02459948  0.08556502]\n",
      "  ...\n",
      "  [ 0.17829457 -0.16540338]\n",
      "  [ 0.17312661  0.2413053 ]\n",
      "  [ 0.21963824 -0.10587533]]\n",
      "\n",
      " [[ 0.          0.        ]\n",
      "  [-0.00464086 -0.06630108]\n",
      "  [-0.03427908  0.50355683]\n",
      "  ...\n",
      "  [ 0.1971311   0.06765177]\n",
      "  [ 0.24459445 -0.23095971]\n",
      "  [ 0.25514186 -0.29103859]]\n",
      "\n",
      " [[ 0.          0.        ]\n",
      "  [-0.02977641  0.61032298]\n",
      "  [-0.04365794  0.32485944]\n",
      "  ...\n",
      "  [ 0.25039737 -0.17635089]\n",
      "  [ 0.26099396 -0.24069591]\n",
      "  [ 0.26629225 -0.34383891]]\n",
      "\n",
      " ...\n",
      "\n",
      " [[ 0.          0.        ]\n",
      "  [ 0.00589015  0.09905927]\n",
      "  [ 0.0159034   0.17357927]\n",
      "  ...\n",
      "  [-0.29767339  1.86425789]\n",
      "  [-0.30223826  1.64023713]\n",
      "  [-0.22338389  1.16459085]]\n",
      "\n",
      " [[ 0.          0.        ]\n",
      "  [ 0.00995462  0.06780344]\n",
      "  [ 0.01237008  0.38972303]\n",
      "  ...\n",
      "  [-0.30632411  1.40227003]\n",
      "  [-0.22793149  0.9694942 ]\n",
      "  [-0.22522325  1.13727908]]\n",
      "\n",
      " [[ 0.          0.        ]\n",
      "  [ 0.00239165  0.30147832]\n",
      "  [ 0.00862444  0.65069229]\n",
      "  ...\n",
      "  [-0.23554138  0.84443514]\n",
      "  [-0.23285983  1.00156601]\n",
      "  [-0.18183795  0.65585815]]] [[ 0.22997416]\n",
      " [ 0.26041557]\n",
      " [ 0.25304652]\n",
      " ...\n",
      " [-0.2206597 ]\n",
      " [-0.17369346]\n",
      " [-0.21706044]] (5085, 49, 2) (5085, 1)\n"
     ]
    }
   ],
   "source": [
    "print(x, y, x.shape, y.shape)"
   ]
  },
  {
   "cell_type": "code",
   "execution_count": 278,
   "id": "f10b4ca9",
   "metadata": {},
   "outputs": [],
   "source": [
    "def get_train_data2(seq_len, normalise):\n",
    "    '''\n",
    "    Create x, y test data windows\n",
    "    Warning: batch method, not generative, make sure you have enough memory to\n",
    "    load data, otherwise reduce size of the training split.\n",
    "    '''\n",
    "    data_windows = []\n",
    "    for i in range(len_train - seq_len + 1):\n",
    "        data_windows.append(data_train[i:i+seq_len])\n",
    "\n",
    "    data_windows = np.array(data_windows).astype(float)\n",
    "    data_windows = normalise_windows(data_windows, single_window=False) if normalise else data_windows\n",
    "\n",
    "    x = data_windows[:, :-1]\n",
    "    y = data_windows[:, -1, [0]]\n",
    "    return x,y"
   ]
  },
  {
   "cell_type": "code",
   "execution_count": 279,
   "id": "11eb91e8",
   "metadata": {},
   "outputs": [],
   "source": [
    "x, y = get_train_data2(seq_len=sequence_length,\n",
    "                     normalise=True)"
   ]
  },
  {
   "cell_type": "code",
   "execution_count": 280,
   "id": "d21568cd",
   "metadata": {},
   "outputs": [
    {
     "name": "stdout",
     "output_type": "stream",
     "text": [
      "[[[ 0.          0.        ]\n",
      "  [-0.02005168  0.16264997]\n",
      "  [-0.02459948  0.08556502]\n",
      "  ...\n",
      "  [ 0.17829457 -0.16540338]\n",
      "  [ 0.17312661  0.2413053 ]\n",
      "  [ 0.21963824 -0.10587533]]\n",
      "\n",
      " [[ 0.          0.        ]\n",
      "  [-0.00464086 -0.06630108]\n",
      "  [-0.03427908  0.50355683]\n",
      "  ...\n",
      "  [ 0.1971311   0.06765177]\n",
      "  [ 0.24459445 -0.23095971]\n",
      "  [ 0.25514186 -0.29103859]]\n",
      "\n",
      " [[ 0.          0.        ]\n",
      "  [-0.02977641  0.61032298]\n",
      "  [-0.04365794  0.32485944]\n",
      "  ...\n",
      "  [ 0.25039737 -0.17635089]\n",
      "  [ 0.26099396 -0.24069591]\n",
      "  [ 0.26629225 -0.34383891]]\n",
      "\n",
      " ...\n",
      "\n",
      " [[ 0.          0.        ]\n",
      "  [ 0.00589015  0.09905927]\n",
      "  [ 0.0159034   0.17357927]\n",
      "  ...\n",
      "  [-0.29767339  1.86425789]\n",
      "  [-0.30223826  1.64023713]\n",
      "  [-0.22338389  1.16459085]]\n",
      "\n",
      " [[ 0.          0.        ]\n",
      "  [ 0.00995462  0.06780344]\n",
      "  [ 0.01237008  0.38972303]\n",
      "  ...\n",
      "  [-0.30632411  1.40227003]\n",
      "  [-0.22793149  0.9694942 ]\n",
      "  [-0.22522325  1.13727908]]\n",
      "\n",
      " [[ 0.          0.        ]\n",
      "  [ 0.00239165  0.30147832]\n",
      "  [ 0.00862444  0.65069229]\n",
      "  ...\n",
      "  [-0.23554138  0.84443514]\n",
      "  [-0.23285983  1.00156601]\n",
      "  [-0.18183795  0.65585815]]] [[ 0.22997416]\n",
      " [ 0.26041557]\n",
      " [ 0.25304652]\n",
      " ...\n",
      " [-0.2206597 ]\n",
      " [-0.17369346]\n",
      " [-0.21706044]] (5085, 49, 2) (5085, 1)\n"
     ]
    }
   ],
   "source": [
    "print(x, y, x.shape, y.shape)"
   ]
  },
  {
   "cell_type": "code",
   "execution_count": 281,
   "id": "2cbd9951",
   "metadata": {},
   "outputs": [
    {
     "name": "stdout",
     "output_type": "stream",
     "text": [
      "159\n"
     ]
    }
   ],
   "source": [
    "import math\n",
    "step_per_epoch = math.ceil((len_train - sequence_length)/bath_size)\n",
    "print(step_per_epoch)"
   ]
  },
  {
   "cell_type": "code",
   "execution_count": 282,
   "id": "cb2ca71a",
   "metadata": {},
   "outputs": [],
   "source": [
    "bath_size=32"
   ]
  },
  {
   "cell_type": "code",
   "execution_count": 283,
   "id": "538b22bf",
   "metadata": {},
   "outputs": [],
   "source": [
    "from keras.callbacks import EarlyStopping\n",
    "callbacks = [\n",
    "    EarlyStopping(monitor='val_loss', patience=2)\n",
    "]"
   ]
  },
  {
   "cell_type": "code",
   "execution_count": 284,
   "id": "9b18ed4e",
   "metadata": {},
   "outputs": [],
   "source": [
    "callbacks = [\n",
    "    EarlyStopping(monitor='accuracy', patience=2)\n",
    "]"
   ]
  },
  {
   "cell_type": "code",
   "execution_count": 285,
   "id": "da498f64",
   "metadata": {},
   "outputs": [
    {
     "name": "stdout",
     "output_type": "stream",
     "text": [
      "Epoch 1/2\n",
      "159/159 [==============================] - 32s 141ms/step - loss: 0.0024 - accuracy: 5.8997e-04\n",
      "Epoch 2/2\n",
      "159/159 [==============================] - 19s 120ms/step - loss: 0.0012 - accuracy: 5.8997e-04\n"
     ]
    },
    {
     "data": {
      "text/plain": [
       "<keras.src.callbacks.History at 0x16b9f056250>"
      ]
     },
     "execution_count": 285,
     "metadata": {},
     "output_type": "execute_result"
    }
   ],
   "source": [
    "model.fit(x, y, epochs=epochs, batch_size=bath_size, callbacks=callbacks)"
   ]
  },
  {
   "cell_type": "code",
   "execution_count": 286,
   "id": "51b12f35",
   "metadata": {},
   "outputs": [],
   "source": [
    "# model.fit(x, y, epochs=epochs)"
   ]
  },
  {
   "cell_type": "code",
   "execution_count": 287,
   "id": "4e9b3749",
   "metadata": {},
   "outputs": [],
   "source": [
    "    def get_test_data(seq_len, normalise):\n",
    "        '''\n",
    "        Create x, y test data windows\n",
    "        Warning: batch method, not generative, make sure you have enough memory to\n",
    "        load data, otherwise reduce size of the training split.\n",
    "        '''\n",
    "        data_windows = []\n",
    "        for i in range(len_test - seq_len):\n",
    "            data_windows.append(data_test[i:i+seq_len])\n",
    "\n",
    "        data_windows = np.array(data_windows).astype(float)\n",
    "        data_windows = normalise_windows(data_windows, single_window=False) if normalise else data_windows\n",
    "\n",
    "        x = data_windows[:, :-1]\n",
    "        y = data_windows[:, -1, [0]]\n",
    "        return x, y"
   ]
  },
  {
   "cell_type": "code",
   "execution_count": 288,
   "id": "23c21201",
   "metadata": {
    "scrolled": true
   },
   "outputs": [],
   "source": [
    "x_test, y_test = get_test_data(seq_len=sequence_length, normalise=True)"
   ]
  },
  {
   "cell_type": "code",
   "execution_count": 289,
   "id": "a5c333b0",
   "metadata": {},
   "outputs": [
    {
     "name": "stdout",
     "output_type": "stream",
     "text": [
      "(857, 49, 2) (857, 1)\n"
     ]
    }
   ],
   "source": [
    "print(x_test.shape, y_test.shape)"
   ]
  },
  {
   "cell_type": "code",
   "execution_count": 290,
   "id": "028f3aa7",
   "metadata": {},
   "outputs": [
    {
     "name": "stdout",
     "output_type": "stream",
     "text": [
      "27/27 - 3s - loss: 7.1388e-04 - accuracy: 0.0012 - 3s/epoch - 123ms/step\n"
     ]
    },
    {
     "data": {
      "text/plain": [
       "[0.000713879766408354, 0.0011668611550703645]"
      ]
     },
     "execution_count": 290,
     "metadata": {},
     "output_type": "execute_result"
    }
   ],
   "source": [
    "model.evaluate(x_test, y_test, verbose=2)"
   ]
  },
  {
   "cell_type": "code",
   "execution_count": 291,
   "id": "5d8ec35d",
   "metadata": {},
   "outputs": [],
   "source": [
    "    def get_last_data(seq_len, normalise):\n",
    "        last_data = data_test[seq_len:]\n",
    "        data_windows = np.array(last_data).astype(float)\n",
    "        #data_windows = np.array([data_windows])\n",
    "        #data_windows = normalise_windows(data_windows, single_window=False) if normalise else data_windows\n",
    "        data_windows = normalise_windows(data_windows, single_window=True) if normalise else data_windows\n",
    "        return data_windows"
   ]
  },
  {
   "cell_type": "code",
   "execution_count": 292,
   "id": "d70c848f",
   "metadata": {},
   "outputs": [
    {
     "name": "stdout",
     "output_type": "stream",
     "text": [
      "-49 98\n"
     ]
    }
   ],
   "source": [
    "last_data_2_predict_prices = get_last_data(-(sequence_length-1), False)\n",
    "last_data_2_predict_prices_1st_price = last_data_2_predict_prices[0][0]\n",
    "last_data_2_predict = get_last_data(-(sequence_length-1), True)\n",
    "print(-(sequence_length-1), last_data_2_predict.size)\n"
   ]
  },
  {
   "cell_type": "code",
   "execution_count": 293,
   "id": "19d60cab",
   "metadata": {},
   "outputs": [
    {
     "data": {
      "text/plain": [
       "array([[[ 0.00000000e+00,  0.00000000e+00],\n",
       "        [ 4.60956312e-03, -2.69934514e-02],\n",
       "        [ 7.56793946e-03, -2.40983217e-01],\n",
       "        [ 1.03887169e-02, -3.86526825e-01],\n",
       "        [ 1.01823185e-02,  6.16920577e-02],\n",
       "        [ 1.78190574e-02, -2.54730479e-01],\n",
       "        [ 1.91262470e-02,  1.94347386e-02],\n",
       "        [ 1.86446508e-02, -1.98883815e-01],\n",
       "        [ 1.49294806e-02, -8.93699078e-02],\n",
       "        [ 1.60302718e-02,  1.71523166e-02],\n",
       "        [ 2.08462332e-02, -1.05576907e-01],\n",
       "        [ 6.53594771e-03,  2.17900538e-01],\n",
       "        [ 8.25593395e-03, -2.81996324e-01],\n",
       "        [ 1.37598899e-02, -2.55986167e-01],\n",
       "        [ 4.40316477e-03,  7.03219297e-01],\n",
       "        [-1.78878569e-03, -3.14764680e-01],\n",
       "        [ 8.04953560e-03,  7.79411319e-02],\n",
       "        [ 3.08221534e-02,  1.63286720e+00],\n",
       "        [ 1.39662883e-02,  3.50980166e-01],\n",
       "        [ 1.07327141e-02, -2.99969100e-01],\n",
       "        [ 7.77433781e-03, -2.63897051e-01],\n",
       "        [-1.45166839e-02,  3.18158533e-01],\n",
       "        [-1.49982800e-02,  2.12825878e-01],\n",
       "        [-2.59373925e-02,  5.80106482e-01],\n",
       "        [-3.47437221e-02,  5.58402709e-01],\n",
       "        [-3.13037496e-02, -1.05101243e-01],\n",
       "        [-3.41245270e-02, -1.02653254e-01],\n",
       "        [-2.94461644e-02, -2.79324300e-01],\n",
       "        [-2.63501892e-02, -1.19185650e-01],\n",
       "        [-2.28414173e-02, -4.06541049e-02],\n",
       "        [-2.16718266e-02, -3.56748240e-01],\n",
       "        [-2.22910217e-02, -1.76048394e-01],\n",
       "        [-1.45854833e-02, -3.13836575e-01],\n",
       "        [-2.82765738e-02,  7.13072453e-02],\n",
       "        [-4.74028208e-02,  2.52286588e-01],\n",
       "        [-4.22428621e-02, -8.16030067e-02],\n",
       "        [-3.46061232e-02,  1.40069511e-01],\n",
       "        [-3.70141039e-02, -9.02045738e-02],\n",
       "        [-5.04987960e-02,  4.51897697e-01],\n",
       "        [-5.63467492e-02,  3.29349614e-01],\n",
       "        [-6.17131063e-02, -5.53584323e-02],\n",
       "        [-5.20123839e-02,  1.03351040e-02],\n",
       "        [-5.68971448e-02,  7.68384986e-01],\n",
       "        [-1.09391125e-02,  2.04090792e+00],\n",
       "        [-1.94702442e-02,  4.94264301e-01],\n",
       "        [-1.87134503e-02,  1.48639658e-01],\n",
       "        [-4.88476092e-03,  8.01031762e-01],\n",
       "        [ 3.43997248e-04,  2.97784215e-01],\n",
       "        [ 1.14207086e-02,  6.62569017e-02]]])"
      ]
     },
     "execution_count": 293,
     "metadata": {},
     "output_type": "execute_result"
    }
   ],
   "source": [
    "last_data_2_predict"
   ]
  },
  {
   "cell_type": "code",
   "execution_count": 294,
   "id": "d2b70a4c",
   "metadata": {},
   "outputs": [
    {
     "data": {
      "text/plain": [
       "array([[1.453500e+02, 3.660147e+06],\n",
       "       [1.460200e+02, 3.561347e+06],\n",
       "       [1.464500e+02, 2.778113e+06],\n",
       "       [1.468600e+02, 2.245402e+06],\n",
       "       [1.468300e+02, 3.885949e+06],\n",
       "       [1.479400e+02, 2.727796e+06],\n",
       "       [1.481300e+02, 3.731281e+06],\n",
       "       [1.480600e+02, 2.932203e+06],\n",
       "       [1.475200e+02, 3.333040e+06],\n",
       "       [1.476800e+02, 3.722927e+06],\n",
       "       [1.483800e+02, 3.273720e+06],\n",
       "       [1.463000e+02, 4.457695e+06],\n",
       "       [1.465500e+02, 2.627999e+06],\n",
       "       [1.473500e+02, 2.723200e+06],\n",
       "       [1.459900e+02, 6.234033e+06],\n",
       "       [1.450900e+02, 2.508062e+06],\n",
       "       [1.465200e+02, 3.945423e+06],\n",
       "       [1.498300e+02, 9.636681e+06],\n",
       "       [1.473800e+02, 4.944786e+06],\n",
       "       [1.469100e+02, 2.562216e+06],\n",
       "       [1.464800e+02, 2.694245e+06],\n",
       "       [1.432400e+02, 4.824654e+06],\n",
       "       [1.431700e+02, 4.439121e+06],\n",
       "       [1.415800e+02, 5.783422e+06],\n",
       "       [1.403000e+02, 5.703983e+06],\n",
       "       [1.408000e+02, 3.275461e+06],\n",
       "       [1.403900e+02, 3.284421e+06],\n",
       "       [1.410700e+02, 2.637779e+06],\n",
       "       [1.415200e+02, 3.223910e+06],\n",
       "       [1.420300e+02, 3.511347e+06],\n",
       "       [1.422000e+02, 2.354396e+06],\n",
       "       [1.421100e+02, 3.015784e+06],\n",
       "       [1.432300e+02, 2.511459e+06],\n",
       "       [1.412400e+02, 3.921142e+06],\n",
       "       [1.384600e+02, 4.583553e+06],\n",
       "       [1.392100e+02, 3.361468e+06],\n",
       "       [1.403200e+02, 4.172822e+06],\n",
       "       [1.399700e+02, 3.329985e+06],\n",
       "       [1.380100e+02, 5.314159e+06],\n",
       "       [1.371600e+02, 4.865615e+06],\n",
       "       [1.363800e+02, 3.457527e+06],\n",
       "       [1.377900e+02, 3.697975e+06],\n",
       "       [1.370800e+02, 6.472549e+06],\n",
       "       [1.437600e+02, 1.113017e+07],\n",
       "       [1.425200e+02, 5.469227e+06],\n",
       "       [1.426300e+02, 4.204190e+06],\n",
       "       [1.446400e+02, 6.592041e+06],\n",
       "       [1.454000e+02, 4.750081e+06],\n",
       "       [1.470100e+02, 3.902657e+06]])"
      ]
     },
     "execution_count": 294,
     "metadata": {},
     "output_type": "execute_result"
    }
   ],
   "source": [
    "last_data_2_predict_prices"
   ]
  },
  {
   "cell_type": "code",
   "execution_count": 295,
   "id": "57cc18d9",
   "metadata": {},
   "outputs": [
    {
     "data": {
      "text/plain": [
       "145.35"
      ]
     },
     "execution_count": 295,
     "metadata": {},
     "output_type": "execute_result"
    }
   ],
   "source": [
    "last_data_2_predict_prices_1st_price"
   ]
  },
  {
   "cell_type": "code",
   "execution_count": 296,
   "id": "5151b7a9",
   "metadata": {},
   "outputs": [
    {
     "name": "stdout",
     "output_type": "stream",
     "text": [
      "1/1 [==============================] - 2s 2s/step\n",
      "[[-0.00235298]] -0.0023529823\n"
     ]
    }
   ],
   "source": [
    "predictions2 = model.predict(last_data_2_predict)\n",
    "print(predictions2, predictions2[0][0])"
   ]
  },
  {
   "cell_type": "code",
   "execution_count": 297,
   "id": "00697d89",
   "metadata": {},
   "outputs": [],
   "source": [
    "    def de_normalise_predicted(price_1st, _data):\n",
    "        return (_data + 1) * price_1st"
   ]
  },
  {
   "cell_type": "code",
   "execution_count": 298,
   "id": "18639aa1",
   "metadata": {},
   "outputs": [
    {
     "data": {
      "text/plain": [
       "145.00799402359408"
      ]
     },
     "execution_count": 298,
     "metadata": {},
     "output_type": "execute_result"
    }
   ],
   "source": [
    "predicted_prise = de_normalise_predicted(last_data_2_predict_prices_1st_price, predictions2[0][0])\n",
    "predicted_prise"
   ]
  },
  {
   "cell_type": "code",
   "execution_count": null,
   "id": "85b1e1a9",
   "metadata": {},
   "outputs": [],
   "source": []
  },
  {
   "cell_type": "code",
   "execution_count": null,
   "id": "b4d4dac0",
   "metadata": {},
   "outputs": [],
   "source": []
  },
  {
   "cell_type": "code",
   "execution_count": null,
   "id": "2cc4f7da",
   "metadata": {},
   "outputs": [],
   "source": []
  },
  {
   "cell_type": "code",
   "execution_count": null,
   "id": "0114d915",
   "metadata": {},
   "outputs": [],
   "source": []
  }
 ],
 "metadata": {
  "kernelspec": {
   "display_name": "Python 3 (ipykernel)",
   "language": "python",
   "name": "python3"
  },
  "language_info": {
   "codemirror_mode": {
    "name": "ipython",
    "version": 3
   },
   "file_extension": ".py",
   "mimetype": "text/x-python",
   "name": "python",
   "nbconvert_exporter": "python",
   "pygments_lexer": "ipython3",
   "version": "3.11.5"
  }
 },
 "nbformat": 4,
 "nbformat_minor": 5
}
